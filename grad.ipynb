{
 "cells": [
  {
   "cell_type": "code",
   "execution_count": 2,
   "metadata": {
    "id": "SATg1wSb3wEk"
   },
   "outputs": [],
   "source": [
    "import pandas as pd"
   ]
  },
  {
   "cell_type": "code",
   "execution_count": 3,
   "metadata": {
    "colab": {
     "base_uri": "https://localhost:8080/",
     "height": 449
    },
    "id": "HnmJ8z4-3_mk",
    "outputId": "c2dec58b-bfdd-413f-8b02-f24d568fca39"
   },
   "outputs": [
    {
     "data": {
      "text/html": [
       "<div>\n",
       "<style scoped>\n",
       "    .dataframe tbody tr th:only-of-type {\n",
       "        vertical-align: middle;\n",
       "    }\n",
       "\n",
       "    .dataframe tbody tr th {\n",
       "        vertical-align: top;\n",
       "    }\n",
       "\n",
       "    .dataframe thead th {\n",
       "        text-align: right;\n",
       "    }\n",
       "</style>\n",
       "<table border=\"1\" class=\"dataframe\">\n",
       "  <thead>\n",
       "    <tr style=\"text-align: right;\">\n",
       "      <th></th>\n",
       "      <th>Entry</th>\n",
       "      <th>Reviewed</th>\n",
       "      <th>Entry Name</th>\n",
       "      <th>Protein names</th>\n",
       "      <th>Gene Names</th>\n",
       "      <th>Organism</th>\n",
       "      <th>Length</th>\n",
       "      <th>Sequence</th>\n",
       "      <th>Protein families</th>\n",
       "      <th>Region</th>\n",
       "      <th>Sequence similarities</th>\n",
       "    </tr>\n",
       "  </thead>\n",
       "  <tbody>\n",
       "    <tr>\n",
       "      <th>0</th>\n",
       "      <td>Z4YNI9</td>\n",
       "      <td>unreviewed</td>\n",
       "      <td>Z4YNI9_RAT</td>\n",
       "      <td>Interleukin-18 (IL-18)</td>\n",
       "      <td>Il18</td>\n",
       "      <td>Rattus norvegicus (Rat)</td>\n",
       "      <td>190</td>\n",
       "      <td>MAAIPEEGSCVNFKEMMFIDNTLYLIRDLESDHFGRLHCTTAVMRS...</td>\n",
       "      <td>IL-1 family</td>\n",
       "      <td>NaN</td>\n",
       "      <td>SIMILARITY: Belongs to the IL-1 family. {ECO:0...</td>\n",
       "    </tr>\n",
       "    <tr>\n",
       "      <th>1</th>\n",
       "      <td>X8JSU7</td>\n",
       "      <td>unreviewed</td>\n",
       "      <td>X8JSU7_9AGAM</td>\n",
       "      <td>L-dopachrome isomerase (EC 5.3.2.1) (EC 5.3.3....</td>\n",
       "      <td>RSOL_506570</td>\n",
       "      <td>Rhizoctonia solani AG-3 Rhs1AP</td>\n",
       "      <td>123</td>\n",
       "      <td>MPAIVLTTNVKPRDEAHEKELVLDLSKFSAEILGKPEKYISVVYNH...</td>\n",
       "      <td>MIF family</td>\n",
       "      <td>NaN</td>\n",
       "      <td>SIMILARITY: Belongs to the MIF family. {ECO:00...</td>\n",
       "    </tr>\n",
       "    <tr>\n",
       "      <th>2</th>\n",
       "      <td>X6R8I9</td>\n",
       "      <td>unreviewed</td>\n",
       "      <td>X6R8I9_HUMAN</td>\n",
       "      <td>TNF superfamily member 15</td>\n",
       "      <td>TNFSF15</td>\n",
       "      <td>Homo sapiens (Human)</td>\n",
       "      <td>174</td>\n",
       "      <td>MRHFLSKVYSFPMRKLILFLVFPVVRQTPTQHFKNQFPALHWEHEL...</td>\n",
       "      <td>Tumor necrosis factor family</td>\n",
       "      <td>NaN</td>\n",
       "      <td>SIMILARITY: Belongs to the tumor necrosis fact...</td>\n",
       "    </tr>\n",
       "    <tr>\n",
       "      <th>3</th>\n",
       "      <td>X5L147</td>\n",
       "      <td>unreviewed</td>\n",
       "      <td>X5L147_9CHON</td>\n",
       "      <td>C-X-C motif chemokine</td>\n",
       "      <td>IL8</td>\n",
       "      <td>Chiloscyllium griseum (grey bambooshark)</td>\n",
       "      <td>102</td>\n",
       "      <td>MISKVTLAVLTLFVLYVVSTEAASLRHAAVSLRCKCIKTNSKFIHP...</td>\n",
       "      <td>Intercrine alpha (chemokine CxC) family</td>\n",
       "      <td>NaN</td>\n",
       "      <td>SIMILARITY: Belongs to the intercrine alpha (c...</td>\n",
       "    </tr>\n",
       "    <tr>\n",
       "      <th>4</th>\n",
       "      <td>X5L130</td>\n",
       "      <td>unreviewed</td>\n",
       "      <td>X5L130_9CHON</td>\n",
       "      <td>CD40 ligand</td>\n",
       "      <td>CD154</td>\n",
       "      <td>Chiloscyllium griseum (grey bambooshark)</td>\n",
       "      <td>310</td>\n",
       "      <td>MQCRGACSLREGTVFTVSAAVNNMNTASSKSPEEHREGQQQTPFVG...</td>\n",
       "      <td>Tumor necrosis factor family</td>\n",
       "      <td>REGION 131..156; /note=\"Disordered\"; /evidence...</td>\n",
       "      <td>SIMILARITY: Belongs to the tumor necrosis fact...</td>\n",
       "    </tr>\n",
       "  </tbody>\n",
       "</table>\n",
       "</div>"
      ],
      "text/plain": [
       "    Entry    Reviewed    Entry Name  \\\n",
       "0  Z4YNI9  unreviewed    Z4YNI9_RAT   \n",
       "1  X8JSU7  unreviewed  X8JSU7_9AGAM   \n",
       "2  X6R8I9  unreviewed  X6R8I9_HUMAN   \n",
       "3  X5L147  unreviewed  X5L147_9CHON   \n",
       "4  X5L130  unreviewed  X5L130_9CHON   \n",
       "\n",
       "                                       Protein names   Gene Names  \\\n",
       "0                             Interleukin-18 (IL-18)         Il18   \n",
       "1  L-dopachrome isomerase (EC 5.3.2.1) (EC 5.3.3....  RSOL_506570   \n",
       "2                          TNF superfamily member 15      TNFSF15   \n",
       "3                              C-X-C motif chemokine          IL8   \n",
       "4                                        CD40 ligand        CD154   \n",
       "\n",
       "                                   Organism  Length  \\\n",
       "0                   Rattus norvegicus (Rat)     190   \n",
       "1            Rhizoctonia solani AG-3 Rhs1AP     123   \n",
       "2                      Homo sapiens (Human)     174   \n",
       "3  Chiloscyllium griseum (grey bambooshark)     102   \n",
       "4  Chiloscyllium griseum (grey bambooshark)     310   \n",
       "\n",
       "                                            Sequence  \\\n",
       "0  MAAIPEEGSCVNFKEMMFIDNTLYLIRDLESDHFGRLHCTTAVMRS...   \n",
       "1  MPAIVLTTNVKPRDEAHEKELVLDLSKFSAEILGKPEKYISVVYNH...   \n",
       "2  MRHFLSKVYSFPMRKLILFLVFPVVRQTPTQHFKNQFPALHWEHEL...   \n",
       "3  MISKVTLAVLTLFVLYVVSTEAASLRHAAVSLRCKCIKTNSKFIHP...   \n",
       "4  MQCRGACSLREGTVFTVSAAVNNMNTASSKSPEEHREGQQQTPFVG...   \n",
       "\n",
       "                          Protein families  \\\n",
       "0                              IL-1 family   \n",
       "1                               MIF family   \n",
       "2             Tumor necrosis factor family   \n",
       "3  Intercrine alpha (chemokine CxC) family   \n",
       "4             Tumor necrosis factor family   \n",
       "\n",
       "                                              Region  \\\n",
       "0                                                NaN   \n",
       "1                                                NaN   \n",
       "2                                                NaN   \n",
       "3                                                NaN   \n",
       "4  REGION 131..156; /note=\"Disordered\"; /evidence...   \n",
       "\n",
       "                               Sequence similarities  \n",
       "0  SIMILARITY: Belongs to the IL-1 family. {ECO:0...  \n",
       "1  SIMILARITY: Belongs to the MIF family. {ECO:00...  \n",
       "2  SIMILARITY: Belongs to the tumor necrosis fact...  \n",
       "3  SIMILARITY: Belongs to the intercrine alpha (c...  \n",
       "4  SIMILARITY: Belongs to the tumor necrosis fact...  "
      ]
     },
     "execution_count": 3,
     "metadata": {},
     "output_type": "execute_result"
    }
   ],
   "source": [
    "#load data from xlsx\n",
    "df = pd.read_excel('data.xlsx')\n",
    "df.head()"
   ]
  },
  {
   "cell_type": "code",
   "execution_count": 4,
   "metadata": {
    "colab": {
     "base_uri": "https://localhost:8080/",
     "height": 429
    },
    "id": "uZiwnNh24HI8",
    "outputId": "ec3e23b5-7660-49b4-ede7-d40059c633c2"
   },
   "outputs": [
    {
     "data": {
      "text/plain": [
       "Entry                        0\n",
       "Reviewed                     0\n",
       "Entry Name                   0\n",
       "Protein names                0\n",
       "Gene Names               15130\n",
       "Organism                     0\n",
       "Length                       0\n",
       "Sequence                     0\n",
       "Protein families         14647\n",
       "Region                   59434\n",
       "Sequence similarities    14647\n",
       "dtype: int64"
      ]
     },
     "execution_count": 4,
     "metadata": {},
     "output_type": "execute_result"
    }
   ],
   "source": [
    "#count null values\n",
    "df.isnull().sum()"
   ]
  },
  {
   "cell_type": "code",
   "execution_count": 5,
   "metadata": {
    "colab": {
     "base_uri": "https://localhost:8080/"
    },
    "id": "_5mFNHoi4P0r",
    "outputId": "a788d8ef-a6f5-4835-b14f-2c959f26f5b4"
   },
   "outputs": [
    {
     "data": {
      "text/plain": [
       "Index(['Entry', 'Reviewed', 'Entry Name', 'Protein names', 'Gene Names',\n",
       "       'Organism', 'Length', 'Sequence', 'Protein families', 'Region',\n",
       "       'Sequence similarities'],\n",
       "      dtype='object')"
      ]
     },
     "execution_count": 5,
     "metadata": {},
     "output_type": "execute_result"
    }
   ],
   "source": [
    "df.columns"
   ]
  },
  {
   "cell_type": "code",
   "execution_count": 6,
   "metadata": {
    "colab": {
     "base_uri": "https://localhost:8080/"
    },
    "id": "hbFN16kx4RVE",
    "outputId": "e03ce494-1a33-4f0e-faec-8f98e8f6d18f"
   },
   "outputs": [
    {
     "data": {
      "text/plain": [
       "(77249, 11)"
      ]
     },
     "execution_count": 6,
     "metadata": {},
     "output_type": "execute_result"
    }
   ],
   "source": [
    "df.shape"
   ]
  },
  {
   "cell_type": "code",
   "execution_count": 7,
   "metadata": {
    "id": "SjvkHJde4VRM"
   },
   "outputs": [],
   "source": [
    "#drop region column\n",
    "df.drop('Region', axis=1, inplace=True)"
   ]
  },
  {
   "cell_type": "code",
   "execution_count": 8,
   "metadata": {
    "colab": {
     "base_uri": "https://localhost:8080/",
     "height": 366
    },
    "id": "Tr2cmduj4aDj",
    "outputId": "9f3e06a9-b497-429d-d6cc-80c7aead3580"
   },
   "outputs": [
    {
     "data": {
      "text/plain": [
       "Entry                        0\n",
       "Reviewed                     0\n",
       "Entry Name                   0\n",
       "Protein names                0\n",
       "Gene Names               15130\n",
       "Organism                     0\n",
       "Length                       0\n",
       "Sequence                     0\n",
       "Protein families         14647\n",
       "Sequence similarities    14647\n",
       "dtype: int64"
      ]
     },
     "execution_count": 8,
     "metadata": {},
     "output_type": "execute_result"
    }
   ],
   "source": [
    "#count null values\n",
    "df.isnull().sum()"
   ]
  },
  {
   "cell_type": "code",
   "execution_count": 9,
   "metadata": {
    "id": "V45AenWJ4c9r"
   },
   "outputs": [],
   "source": [
    "#drop rows where protien families is na\n",
    "df.dropna(subset=['Protein families'], inplace=True)"
   ]
  },
  {
   "cell_type": "code",
   "execution_count": 10,
   "metadata": {
    "colab": {
     "base_uri": "https://localhost:8080/"
    },
    "id": "RQ7BHfNf4ubD",
    "outputId": "67de2199-f11d-4a3c-db5c-c9ef4e51ba5e"
   },
   "outputs": [
    {
     "data": {
      "text/plain": [
       "(62602, 10)"
      ]
     },
     "execution_count": 10,
     "metadata": {},
     "output_type": "execute_result"
    }
   ],
   "source": [
    "df.shape"
   ]
  },
  {
   "cell_type": "code",
   "execution_count": 11,
   "metadata": {
    "colab": {
     "base_uri": "https://localhost:8080/",
     "height": 310
    },
    "id": "NM0Aj-yV4zDz",
    "outputId": "a4169f97-3a0c-4bfa-d7b9-3413b228a112"
   },
   "outputs": [
    {
     "data": {
      "text/html": [
       "<div>\n",
       "<style scoped>\n",
       "    .dataframe tbody tr th:only-of-type {\n",
       "        vertical-align: middle;\n",
       "    }\n",
       "\n",
       "    .dataframe tbody tr th {\n",
       "        vertical-align: top;\n",
       "    }\n",
       "\n",
       "    .dataframe thead th {\n",
       "        text-align: right;\n",
       "    }\n",
       "</style>\n",
       "<table border=\"1\" class=\"dataframe\">\n",
       "  <thead>\n",
       "    <tr style=\"text-align: right;\">\n",
       "      <th></th>\n",
       "      <th>Entry</th>\n",
       "      <th>Reviewed</th>\n",
       "      <th>Entry Name</th>\n",
       "      <th>Protein names</th>\n",
       "      <th>Gene Names</th>\n",
       "      <th>Organism</th>\n",
       "      <th>Length</th>\n",
       "      <th>Sequence</th>\n",
       "      <th>Protein families</th>\n",
       "      <th>Sequence similarities</th>\n",
       "    </tr>\n",
       "  </thead>\n",
       "  <tbody>\n",
       "    <tr>\n",
       "      <th>0</th>\n",
       "      <td>Z4YNI9</td>\n",
       "      <td>unreviewed</td>\n",
       "      <td>Z4YNI9_RAT</td>\n",
       "      <td>Interleukin-18 (IL-18)</td>\n",
       "      <td>Il18</td>\n",
       "      <td>Rattus norvegicus (Rat)</td>\n",
       "      <td>190</td>\n",
       "      <td>MAAIPEEGSCVNFKEMMFIDNTLYLIRDLESDHFGRLHCTTAVMRS...</td>\n",
       "      <td>IL-1 family</td>\n",
       "      <td>SIMILARITY: Belongs to the IL-1 family. {ECO:0...</td>\n",
       "    </tr>\n",
       "    <tr>\n",
       "      <th>1</th>\n",
       "      <td>X8JSU7</td>\n",
       "      <td>unreviewed</td>\n",
       "      <td>X8JSU7_9AGAM</td>\n",
       "      <td>L-dopachrome isomerase (EC 5.3.2.1) (EC 5.3.3....</td>\n",
       "      <td>RSOL_506570</td>\n",
       "      <td>Rhizoctonia solani AG-3 Rhs1AP</td>\n",
       "      <td>123</td>\n",
       "      <td>MPAIVLTTNVKPRDEAHEKELVLDLSKFSAEILGKPEKYISVVYNH...</td>\n",
       "      <td>MIF family</td>\n",
       "      <td>SIMILARITY: Belongs to the MIF family. {ECO:00...</td>\n",
       "    </tr>\n",
       "    <tr>\n",
       "      <th>2</th>\n",
       "      <td>X6R8I9</td>\n",
       "      <td>unreviewed</td>\n",
       "      <td>X6R8I9_HUMAN</td>\n",
       "      <td>TNF superfamily member 15</td>\n",
       "      <td>TNFSF15</td>\n",
       "      <td>Homo sapiens (Human)</td>\n",
       "      <td>174</td>\n",
       "      <td>MRHFLSKVYSFPMRKLILFLVFPVVRQTPTQHFKNQFPALHWEHEL...</td>\n",
       "      <td>Tumor necrosis factor family</td>\n",
       "      <td>SIMILARITY: Belongs to the tumor necrosis fact...</td>\n",
       "    </tr>\n",
       "    <tr>\n",
       "      <th>3</th>\n",
       "      <td>X5L147</td>\n",
       "      <td>unreviewed</td>\n",
       "      <td>X5L147_9CHON</td>\n",
       "      <td>C-X-C motif chemokine</td>\n",
       "      <td>IL8</td>\n",
       "      <td>Chiloscyllium griseum (grey bambooshark)</td>\n",
       "      <td>102</td>\n",
       "      <td>MISKVTLAVLTLFVLYVVSTEAASLRHAAVSLRCKCIKTNSKFIHP...</td>\n",
       "      <td>Intercrine alpha (chemokine CxC) family</td>\n",
       "      <td>SIMILARITY: Belongs to the intercrine alpha (c...</td>\n",
       "    </tr>\n",
       "    <tr>\n",
       "      <th>4</th>\n",
       "      <td>X5L130</td>\n",
       "      <td>unreviewed</td>\n",
       "      <td>X5L130_9CHON</td>\n",
       "      <td>CD40 ligand</td>\n",
       "      <td>CD154</td>\n",
       "      <td>Chiloscyllium griseum (grey bambooshark)</td>\n",
       "      <td>310</td>\n",
       "      <td>MQCRGACSLREGTVFTVSAAVNNMNTASSKSPEEHREGQQQTPFVG...</td>\n",
       "      <td>Tumor necrosis factor family</td>\n",
       "      <td>SIMILARITY: Belongs to the tumor necrosis fact...</td>\n",
       "    </tr>\n",
       "  </tbody>\n",
       "</table>\n",
       "</div>"
      ],
      "text/plain": [
       "    Entry    Reviewed    Entry Name  \\\n",
       "0  Z4YNI9  unreviewed    Z4YNI9_RAT   \n",
       "1  X8JSU7  unreviewed  X8JSU7_9AGAM   \n",
       "2  X6R8I9  unreviewed  X6R8I9_HUMAN   \n",
       "3  X5L147  unreviewed  X5L147_9CHON   \n",
       "4  X5L130  unreviewed  X5L130_9CHON   \n",
       "\n",
       "                                       Protein names   Gene Names  \\\n",
       "0                             Interleukin-18 (IL-18)         Il18   \n",
       "1  L-dopachrome isomerase (EC 5.3.2.1) (EC 5.3.3....  RSOL_506570   \n",
       "2                          TNF superfamily member 15      TNFSF15   \n",
       "3                              C-X-C motif chemokine          IL8   \n",
       "4                                        CD40 ligand        CD154   \n",
       "\n",
       "                                   Organism  Length  \\\n",
       "0                   Rattus norvegicus (Rat)     190   \n",
       "1            Rhizoctonia solani AG-3 Rhs1AP     123   \n",
       "2                      Homo sapiens (Human)     174   \n",
       "3  Chiloscyllium griseum (grey bambooshark)     102   \n",
       "4  Chiloscyllium griseum (grey bambooshark)     310   \n",
       "\n",
       "                                            Sequence  \\\n",
       "0  MAAIPEEGSCVNFKEMMFIDNTLYLIRDLESDHFGRLHCTTAVMRS...   \n",
       "1  MPAIVLTTNVKPRDEAHEKELVLDLSKFSAEILGKPEKYISVVYNH...   \n",
       "2  MRHFLSKVYSFPMRKLILFLVFPVVRQTPTQHFKNQFPALHWEHEL...   \n",
       "3  MISKVTLAVLTLFVLYVVSTEAASLRHAAVSLRCKCIKTNSKFIHP...   \n",
       "4  MQCRGACSLREGTVFTVSAAVNNMNTASSKSPEEHREGQQQTPFVG...   \n",
       "\n",
       "                          Protein families  \\\n",
       "0                              IL-1 family   \n",
       "1                               MIF family   \n",
       "2             Tumor necrosis factor family   \n",
       "3  Intercrine alpha (chemokine CxC) family   \n",
       "4             Tumor necrosis factor family   \n",
       "\n",
       "                               Sequence similarities  \n",
       "0  SIMILARITY: Belongs to the IL-1 family. {ECO:0...  \n",
       "1  SIMILARITY: Belongs to the MIF family. {ECO:00...  \n",
       "2  SIMILARITY: Belongs to the tumor necrosis fact...  \n",
       "3  SIMILARITY: Belongs to the intercrine alpha (c...  \n",
       "4  SIMILARITY: Belongs to the tumor necrosis fact...  "
      ]
     },
     "execution_count": 11,
     "metadata": {},
     "output_type": "execute_result"
    }
   ],
   "source": [
    "df.head()"
   ]
  },
  {
   "cell_type": "code",
   "execution_count": 12,
   "metadata": {
    "colab": {
     "base_uri": "https://localhost:8080/"
    },
    "id": "8id3dowU5AFj",
    "outputId": "b3db2f51-a295-40b4-e187-832c2444a3ad"
   },
   "outputs": [
    {
     "data": {
      "text/plain": [
       "95"
      ]
     },
     "execution_count": 12,
     "metadata": {},
     "output_type": "execute_result"
    }
   ],
   "source": [
    "#count how many unique values in protein families\n",
    "df['Protein families'].nunique()"
   ]
  },
  {
   "cell_type": "code",
   "execution_count": 13,
   "metadata": {
    "id": "_3Q32QNl5Xjb"
   },
   "outputs": [],
   "source": [
    "df.drop('Gene Names', axis=1, inplace=True)"
   ]
  },
  {
   "cell_type": "code",
   "execution_count": 14,
   "metadata": {
    "colab": {
     "base_uri": "https://localhost:8080/",
     "height": 449
    },
    "id": "gdsre5Qa9WK_",
    "outputId": "1c40bc1d-808f-4a9e-b5bd-7986b4863272"
   },
   "outputs": [
    {
     "data": {
      "text/html": [
       "<div>\n",
       "<style scoped>\n",
       "    .dataframe tbody tr th:only-of-type {\n",
       "        vertical-align: middle;\n",
       "    }\n",
       "\n",
       "    .dataframe tbody tr th {\n",
       "        vertical-align: top;\n",
       "    }\n",
       "\n",
       "    .dataframe thead th {\n",
       "        text-align: right;\n",
       "    }\n",
       "</style>\n",
       "<table border=\"1\" class=\"dataframe\">\n",
       "  <thead>\n",
       "    <tr style=\"text-align: right;\">\n",
       "      <th></th>\n",
       "      <th>Entry</th>\n",
       "      <th>Reviewed</th>\n",
       "      <th>Entry Name</th>\n",
       "      <th>Protein names</th>\n",
       "      <th>Organism</th>\n",
       "      <th>Length</th>\n",
       "      <th>Sequence</th>\n",
       "      <th>Protein families</th>\n",
       "      <th>Sequence similarities</th>\n",
       "    </tr>\n",
       "  </thead>\n",
       "  <tbody>\n",
       "    <tr>\n",
       "      <th>0</th>\n",
       "      <td>Z4YNI9</td>\n",
       "      <td>unreviewed</td>\n",
       "      <td>Z4YNI9_RAT</td>\n",
       "      <td>Interleukin-18 (IL-18)</td>\n",
       "      <td>Rattus norvegicus (Rat)</td>\n",
       "      <td>190</td>\n",
       "      <td>MAAIPEEGSCVNFKEMMFIDNTLYLIRDLESDHFGRLHCTTAVMRS...</td>\n",
       "      <td>IL-1 family</td>\n",
       "      <td>SIMILARITY: Belongs to the IL-1 family. {ECO:0...</td>\n",
       "    </tr>\n",
       "    <tr>\n",
       "      <th>1</th>\n",
       "      <td>X8JSU7</td>\n",
       "      <td>unreviewed</td>\n",
       "      <td>X8JSU7_9AGAM</td>\n",
       "      <td>L-dopachrome isomerase (EC 5.3.2.1) (EC 5.3.3....</td>\n",
       "      <td>Rhizoctonia solani AG-3 Rhs1AP</td>\n",
       "      <td>123</td>\n",
       "      <td>MPAIVLTTNVKPRDEAHEKELVLDLSKFSAEILGKPEKYISVVYNH...</td>\n",
       "      <td>MIF family</td>\n",
       "      <td>SIMILARITY: Belongs to the MIF family. {ECO:00...</td>\n",
       "    </tr>\n",
       "    <tr>\n",
       "      <th>2</th>\n",
       "      <td>X6R8I9</td>\n",
       "      <td>unreviewed</td>\n",
       "      <td>X6R8I9_HUMAN</td>\n",
       "      <td>TNF superfamily member 15</td>\n",
       "      <td>Homo sapiens (Human)</td>\n",
       "      <td>174</td>\n",
       "      <td>MRHFLSKVYSFPMRKLILFLVFPVVRQTPTQHFKNQFPALHWEHEL...</td>\n",
       "      <td>Tumor necrosis factor family</td>\n",
       "      <td>SIMILARITY: Belongs to the tumor necrosis fact...</td>\n",
       "    </tr>\n",
       "    <tr>\n",
       "      <th>3</th>\n",
       "      <td>X5L147</td>\n",
       "      <td>unreviewed</td>\n",
       "      <td>X5L147_9CHON</td>\n",
       "      <td>C-X-C motif chemokine</td>\n",
       "      <td>Chiloscyllium griseum (grey bambooshark)</td>\n",
       "      <td>102</td>\n",
       "      <td>MISKVTLAVLTLFVLYVVSTEAASLRHAAVSLRCKCIKTNSKFIHP...</td>\n",
       "      <td>Intercrine alpha (chemokine CxC) family</td>\n",
       "      <td>SIMILARITY: Belongs to the intercrine alpha (c...</td>\n",
       "    </tr>\n",
       "    <tr>\n",
       "      <th>4</th>\n",
       "      <td>X5L130</td>\n",
       "      <td>unreviewed</td>\n",
       "      <td>X5L130_9CHON</td>\n",
       "      <td>CD40 ligand</td>\n",
       "      <td>Chiloscyllium griseum (grey bambooshark)</td>\n",
       "      <td>310</td>\n",
       "      <td>MQCRGACSLREGTVFTVSAAVNNMNTASSKSPEEHREGQQQTPFVG...</td>\n",
       "      <td>Tumor necrosis factor family</td>\n",
       "      <td>SIMILARITY: Belongs to the tumor necrosis fact...</td>\n",
       "    </tr>\n",
       "  </tbody>\n",
       "</table>\n",
       "</div>"
      ],
      "text/plain": [
       "    Entry    Reviewed    Entry Name  \\\n",
       "0  Z4YNI9  unreviewed    Z4YNI9_RAT   \n",
       "1  X8JSU7  unreviewed  X8JSU7_9AGAM   \n",
       "2  X6R8I9  unreviewed  X6R8I9_HUMAN   \n",
       "3  X5L147  unreviewed  X5L147_9CHON   \n",
       "4  X5L130  unreviewed  X5L130_9CHON   \n",
       "\n",
       "                                       Protein names  \\\n",
       "0                             Interleukin-18 (IL-18)   \n",
       "1  L-dopachrome isomerase (EC 5.3.2.1) (EC 5.3.3....   \n",
       "2                          TNF superfamily member 15   \n",
       "3                              C-X-C motif chemokine   \n",
       "4                                        CD40 ligand   \n",
       "\n",
       "                                   Organism  Length  \\\n",
       "0                   Rattus norvegicus (Rat)     190   \n",
       "1            Rhizoctonia solani AG-3 Rhs1AP     123   \n",
       "2                      Homo sapiens (Human)     174   \n",
       "3  Chiloscyllium griseum (grey bambooshark)     102   \n",
       "4  Chiloscyllium griseum (grey bambooshark)     310   \n",
       "\n",
       "                                            Sequence  \\\n",
       "0  MAAIPEEGSCVNFKEMMFIDNTLYLIRDLESDHFGRLHCTTAVMRS...   \n",
       "1  MPAIVLTTNVKPRDEAHEKELVLDLSKFSAEILGKPEKYISVVYNH...   \n",
       "2  MRHFLSKVYSFPMRKLILFLVFPVVRQTPTQHFKNQFPALHWEHEL...   \n",
       "3  MISKVTLAVLTLFVLYVVSTEAASLRHAAVSLRCKCIKTNSKFIHP...   \n",
       "4  MQCRGACSLREGTVFTVSAAVNNMNTASSKSPEEHREGQQQTPFVG...   \n",
       "\n",
       "                          Protein families  \\\n",
       "0                              IL-1 family   \n",
       "1                               MIF family   \n",
       "2             Tumor necrosis factor family   \n",
       "3  Intercrine alpha (chemokine CxC) family   \n",
       "4             Tumor necrosis factor family   \n",
       "\n",
       "                               Sequence similarities  \n",
       "0  SIMILARITY: Belongs to the IL-1 family. {ECO:0...  \n",
       "1  SIMILARITY: Belongs to the MIF family. {ECO:00...  \n",
       "2  SIMILARITY: Belongs to the tumor necrosis fact...  \n",
       "3  SIMILARITY: Belongs to the intercrine alpha (c...  \n",
       "4  SIMILARITY: Belongs to the tumor necrosis fact...  "
      ]
     },
     "execution_count": 14,
     "metadata": {},
     "output_type": "execute_result"
    }
   ],
   "source": [
    "df.head()"
   ]
  },
  {
   "cell_type": "code",
   "execution_count": 15,
   "metadata": {
    "colab": {
     "base_uri": "https://localhost:8080/"
    },
    "id": "CnBsI8nR9XLg",
    "outputId": "ac2ce303-86db-4326-c51f-c12808503a9c"
   },
   "outputs": [
    {
     "data": {
      "text/plain": [
       "(62602, 9)"
      ]
     },
     "execution_count": 15,
     "metadata": {},
     "output_type": "execute_result"
    }
   ],
   "source": [
    "df.shape"
   ]
  },
  {
   "cell_type": "code",
   "execution_count": 16,
   "metadata": {
    "colab": {
     "base_uri": "https://localhost:8080/"
    },
    "id": "VeunUj-C9aIg",
    "outputId": "9b9d2c54-9e26-41a6-a844-79c37306f7fd"
   },
   "outputs": [
    {
     "name": "stdout",
     "output_type": "stream",
     "text": [
      "990\n"
     ]
    }
   ],
   "source": [
    "#iterate over sequence column values\n",
    "cnt=0\n",
    "for index, row in df.iterrows():\n",
    "    #check for x in each and drop the row\n",
    "    if 'X' in row['Sequence']:\n",
    "        df.drop(index, inplace=True)\n",
    "        cnt+=1\n",
    "\n",
    "print(cnt)"
   ]
  },
  {
   "cell_type": "code",
   "execution_count": 17,
   "metadata": {
    "colab": {
     "base_uri": "https://localhost:8080/"
    },
    "id": "ooPcm8Rt9qj4",
    "outputId": "b528a512-bae1-45a5-e7cb-cdb8ce409c81"
   },
   "outputs": [
    {
     "name": "stdout",
     "output_type": "stream",
     "text": [
      "61473\n"
     ]
    }
   ],
   "source": [
    "#replacing P,J,Z with a random choice between D,N,I,L,E,Q\n",
    "import random\n",
    "cnt=0\n",
    "for index, row in df.iterrows():\n",
    "\n",
    "    seq = row['Sequence']\n",
    "    if 'P' in seq or 'J' in seq or 'Z' in seq:\n",
    "        cnt+=1\n",
    "\n",
    "    seq = seq.replace('P', random.choice(['D','N','I','L','E','Q']))\n",
    "    seq = seq.replace('J', random.choice(['D','N','I','L','E','Q']))\n",
    "    seq = seq.replace('Z', random.choice(['D','N','I','L','E','Q']))\n",
    "    df.at[index, 'Sequence'] = seq\n",
    "\n",
    "print(cnt)"
   ]
  },
  {
   "cell_type": "code",
   "execution_count": 18,
   "metadata": {
    "colab": {
     "base_uri": "https://localhost:8080/",
     "height": 449
    },
    "id": "o384A2ja_HMa",
    "outputId": "81fa8006-775e-40aa-bae9-e1b27a88a62e"
   },
   "outputs": [
    {
     "data": {
      "text/html": [
       "<div>\n",
       "<style scoped>\n",
       "    .dataframe tbody tr th:only-of-type {\n",
       "        vertical-align: middle;\n",
       "    }\n",
       "\n",
       "    .dataframe tbody tr th {\n",
       "        vertical-align: top;\n",
       "    }\n",
       "\n",
       "    .dataframe thead th {\n",
       "        text-align: right;\n",
       "    }\n",
       "</style>\n",
       "<table border=\"1\" class=\"dataframe\">\n",
       "  <thead>\n",
       "    <tr style=\"text-align: right;\">\n",
       "      <th></th>\n",
       "      <th>Entry</th>\n",
       "      <th>Reviewed</th>\n",
       "      <th>Entry Name</th>\n",
       "      <th>Protein names</th>\n",
       "      <th>Organism</th>\n",
       "      <th>Length</th>\n",
       "      <th>Sequence</th>\n",
       "      <th>Protein families</th>\n",
       "      <th>Sequence similarities</th>\n",
       "    </tr>\n",
       "  </thead>\n",
       "  <tbody>\n",
       "    <tr>\n",
       "      <th>0</th>\n",
       "      <td>Z4YNI9</td>\n",
       "      <td>unreviewed</td>\n",
       "      <td>Z4YNI9_RAT</td>\n",
       "      <td>Interleukin-18 (IL-18)</td>\n",
       "      <td>Rattus norvegicus (Rat)</td>\n",
       "      <td>190</td>\n",
       "      <td>MAAIIEEGSCVNFKEMMFIDNTLYLIRDLESDHFGRLHCTTAVMRS...</td>\n",
       "      <td>IL-1 family</td>\n",
       "      <td>SIMILARITY: Belongs to the IL-1 family. {ECO:0...</td>\n",
       "    </tr>\n",
       "    <tr>\n",
       "      <th>1</th>\n",
       "      <td>X8JSU7</td>\n",
       "      <td>unreviewed</td>\n",
       "      <td>X8JSU7_9AGAM</td>\n",
       "      <td>L-dopachrome isomerase (EC 5.3.2.1) (EC 5.3.3....</td>\n",
       "      <td>Rhizoctonia solani AG-3 Rhs1AP</td>\n",
       "      <td>123</td>\n",
       "      <td>MIAIVLTTNVKIRDEAHEKELVLDLSKFSAEILGKIEKYISVVYNH...</td>\n",
       "      <td>MIF family</td>\n",
       "      <td>SIMILARITY: Belongs to the MIF family. {ECO:00...</td>\n",
       "    </tr>\n",
       "    <tr>\n",
       "      <th>2</th>\n",
       "      <td>X6R8I9</td>\n",
       "      <td>unreviewed</td>\n",
       "      <td>X6R8I9_HUMAN</td>\n",
       "      <td>TNF superfamily member 15</td>\n",
       "      <td>Homo sapiens (Human)</td>\n",
       "      <td>174</td>\n",
       "      <td>MRHFLSKVYSFEMRKLILFLVFEVVRQTETQHFKNQFEALHWEHEL...</td>\n",
       "      <td>Tumor necrosis factor family</td>\n",
       "      <td>SIMILARITY: Belongs to the tumor necrosis fact...</td>\n",
       "    </tr>\n",
       "    <tr>\n",
       "      <th>3</th>\n",
       "      <td>X5L147</td>\n",
       "      <td>unreviewed</td>\n",
       "      <td>X5L147_9CHON</td>\n",
       "      <td>C-X-C motif chemokine</td>\n",
       "      <td>Chiloscyllium griseum (grey bambooshark)</td>\n",
       "      <td>102</td>\n",
       "      <td>MISKVTLAVLTLFVLYVVSTEAASLRHAAVSLRCKCIKTNSKFIHE...</td>\n",
       "      <td>Intercrine alpha (chemokine CxC) family</td>\n",
       "      <td>SIMILARITY: Belongs to the intercrine alpha (c...</td>\n",
       "    </tr>\n",
       "    <tr>\n",
       "      <th>4</th>\n",
       "      <td>X5L130</td>\n",
       "      <td>unreviewed</td>\n",
       "      <td>X5L130_9CHON</td>\n",
       "      <td>CD40 ligand</td>\n",
       "      <td>Chiloscyllium griseum (grey bambooshark)</td>\n",
       "      <td>310</td>\n",
       "      <td>MQCRGACSLREGTVFTVSAAVNNMNTASSKSEEEHREGQQQTEFVG...</td>\n",
       "      <td>Tumor necrosis factor family</td>\n",
       "      <td>SIMILARITY: Belongs to the tumor necrosis fact...</td>\n",
       "    </tr>\n",
       "  </tbody>\n",
       "</table>\n",
       "</div>"
      ],
      "text/plain": [
       "    Entry    Reviewed    Entry Name  \\\n",
       "0  Z4YNI9  unreviewed    Z4YNI9_RAT   \n",
       "1  X8JSU7  unreviewed  X8JSU7_9AGAM   \n",
       "2  X6R8I9  unreviewed  X6R8I9_HUMAN   \n",
       "3  X5L147  unreviewed  X5L147_9CHON   \n",
       "4  X5L130  unreviewed  X5L130_9CHON   \n",
       "\n",
       "                                       Protein names  \\\n",
       "0                             Interleukin-18 (IL-18)   \n",
       "1  L-dopachrome isomerase (EC 5.3.2.1) (EC 5.3.3....   \n",
       "2                          TNF superfamily member 15   \n",
       "3                              C-X-C motif chemokine   \n",
       "4                                        CD40 ligand   \n",
       "\n",
       "                                   Organism  Length  \\\n",
       "0                   Rattus norvegicus (Rat)     190   \n",
       "1            Rhizoctonia solani AG-3 Rhs1AP     123   \n",
       "2                      Homo sapiens (Human)     174   \n",
       "3  Chiloscyllium griseum (grey bambooshark)     102   \n",
       "4  Chiloscyllium griseum (grey bambooshark)     310   \n",
       "\n",
       "                                            Sequence  \\\n",
       "0  MAAIIEEGSCVNFKEMMFIDNTLYLIRDLESDHFGRLHCTTAVMRS...   \n",
       "1  MIAIVLTTNVKIRDEAHEKELVLDLSKFSAEILGKIEKYISVVYNH...   \n",
       "2  MRHFLSKVYSFEMRKLILFLVFEVVRQTETQHFKNQFEALHWEHEL...   \n",
       "3  MISKVTLAVLTLFVLYVVSTEAASLRHAAVSLRCKCIKTNSKFIHE...   \n",
       "4  MQCRGACSLREGTVFTVSAAVNNMNTASSKSEEEHREGQQQTEFVG...   \n",
       "\n",
       "                          Protein families  \\\n",
       "0                              IL-1 family   \n",
       "1                               MIF family   \n",
       "2             Tumor necrosis factor family   \n",
       "3  Intercrine alpha (chemokine CxC) family   \n",
       "4             Tumor necrosis factor family   \n",
       "\n",
       "                               Sequence similarities  \n",
       "0  SIMILARITY: Belongs to the IL-1 family. {ECO:0...  \n",
       "1  SIMILARITY: Belongs to the MIF family. {ECO:00...  \n",
       "2  SIMILARITY: Belongs to the tumor necrosis fact...  \n",
       "3  SIMILARITY: Belongs to the intercrine alpha (c...  \n",
       "4  SIMILARITY: Belongs to the tumor necrosis fact...  "
      ]
     },
     "execution_count": 18,
     "metadata": {},
     "output_type": "execute_result"
    }
   ],
   "source": [
    "df.head()"
   ]
  },
  {
   "cell_type": "code",
   "execution_count": 19,
   "metadata": {
    "id": "TxVDLZeb_Tf3"
   },
   "outputs": [],
   "source": [
    "#drop reviewed column\n",
    "df.drop('Reviewed', axis=1, inplace=True)"
   ]
  },
  {
   "cell_type": "code",
   "execution_count": 20,
   "metadata": {
    "id": "PpnmB5my_dNX"
   },
   "outputs": [],
   "source": [
    "df.drop('Entry', axis=1, inplace=True)"
   ]
  },
  {
   "cell_type": "code",
   "execution_count": 21,
   "metadata": {
    "id": "1d_uypUb_hFA"
   },
   "outputs": [],
   "source": [
    "df.drop('Entry Name', axis=1, inplace=True)"
   ]
  },
  {
   "cell_type": "code",
   "execution_count": 22,
   "metadata": {
    "colab": {
     "base_uri": "https://localhost:8080/",
     "height": 292
    },
    "id": "TMKUugD9_jhg",
    "outputId": "d2379014-1e80-4c43-cf65-ddb9625cd315"
   },
   "outputs": [
    {
     "data": {
      "text/html": [
       "<div>\n",
       "<style scoped>\n",
       "    .dataframe tbody tr th:only-of-type {\n",
       "        vertical-align: middle;\n",
       "    }\n",
       "\n",
       "    .dataframe tbody tr th {\n",
       "        vertical-align: top;\n",
       "    }\n",
       "\n",
       "    .dataframe thead th {\n",
       "        text-align: right;\n",
       "    }\n",
       "</style>\n",
       "<table border=\"1\" class=\"dataframe\">\n",
       "  <thead>\n",
       "    <tr style=\"text-align: right;\">\n",
       "      <th></th>\n",
       "      <th>Protein names</th>\n",
       "      <th>Organism</th>\n",
       "      <th>Length</th>\n",
       "      <th>Sequence</th>\n",
       "      <th>Protein families</th>\n",
       "      <th>Sequence similarities</th>\n",
       "    </tr>\n",
       "  </thead>\n",
       "  <tbody>\n",
       "    <tr>\n",
       "      <th>0</th>\n",
       "      <td>Interleukin-18 (IL-18)</td>\n",
       "      <td>Rattus norvegicus (Rat)</td>\n",
       "      <td>190</td>\n",
       "      <td>MAAIIEEGSCVNFKEMMFIDNTLYLIRDLESDHFGRLHCTTAVMRS...</td>\n",
       "      <td>IL-1 family</td>\n",
       "      <td>SIMILARITY: Belongs to the IL-1 family. {ECO:0...</td>\n",
       "    </tr>\n",
       "    <tr>\n",
       "      <th>1</th>\n",
       "      <td>L-dopachrome isomerase (EC 5.3.2.1) (EC 5.3.3....</td>\n",
       "      <td>Rhizoctonia solani AG-3 Rhs1AP</td>\n",
       "      <td>123</td>\n",
       "      <td>MIAIVLTTNVKIRDEAHEKELVLDLSKFSAEILGKIEKYISVVYNH...</td>\n",
       "      <td>MIF family</td>\n",
       "      <td>SIMILARITY: Belongs to the MIF family. {ECO:00...</td>\n",
       "    </tr>\n",
       "    <tr>\n",
       "      <th>2</th>\n",
       "      <td>TNF superfamily member 15</td>\n",
       "      <td>Homo sapiens (Human)</td>\n",
       "      <td>174</td>\n",
       "      <td>MRHFLSKVYSFEMRKLILFLVFEVVRQTETQHFKNQFEALHWEHEL...</td>\n",
       "      <td>Tumor necrosis factor family</td>\n",
       "      <td>SIMILARITY: Belongs to the tumor necrosis fact...</td>\n",
       "    </tr>\n",
       "    <tr>\n",
       "      <th>3</th>\n",
       "      <td>C-X-C motif chemokine</td>\n",
       "      <td>Chiloscyllium griseum (grey bambooshark)</td>\n",
       "      <td>102</td>\n",
       "      <td>MISKVTLAVLTLFVLYVVSTEAASLRHAAVSLRCKCIKTNSKFIHE...</td>\n",
       "      <td>Intercrine alpha (chemokine CxC) family</td>\n",
       "      <td>SIMILARITY: Belongs to the intercrine alpha (c...</td>\n",
       "    </tr>\n",
       "    <tr>\n",
       "      <th>4</th>\n",
       "      <td>CD40 ligand</td>\n",
       "      <td>Chiloscyllium griseum (grey bambooshark)</td>\n",
       "      <td>310</td>\n",
       "      <td>MQCRGACSLREGTVFTVSAAVNNMNTASSKSEEEHREGQQQTEFVG...</td>\n",
       "      <td>Tumor necrosis factor family</td>\n",
       "      <td>SIMILARITY: Belongs to the tumor necrosis fact...</td>\n",
       "    </tr>\n",
       "  </tbody>\n",
       "</table>\n",
       "</div>"
      ],
      "text/plain": [
       "                                       Protein names  \\\n",
       "0                             Interleukin-18 (IL-18)   \n",
       "1  L-dopachrome isomerase (EC 5.3.2.1) (EC 5.3.3....   \n",
       "2                          TNF superfamily member 15   \n",
       "3                              C-X-C motif chemokine   \n",
       "4                                        CD40 ligand   \n",
       "\n",
       "                                   Organism  Length  \\\n",
       "0                   Rattus norvegicus (Rat)     190   \n",
       "1            Rhizoctonia solani AG-3 Rhs1AP     123   \n",
       "2                      Homo sapiens (Human)     174   \n",
       "3  Chiloscyllium griseum (grey bambooshark)     102   \n",
       "4  Chiloscyllium griseum (grey bambooshark)     310   \n",
       "\n",
       "                                            Sequence  \\\n",
       "0  MAAIIEEGSCVNFKEMMFIDNTLYLIRDLESDHFGRLHCTTAVMRS...   \n",
       "1  MIAIVLTTNVKIRDEAHEKELVLDLSKFSAEILGKIEKYISVVYNH...   \n",
       "2  MRHFLSKVYSFEMRKLILFLVFEVVRQTETQHFKNQFEALHWEHEL...   \n",
       "3  MISKVTLAVLTLFVLYVVSTEAASLRHAAVSLRCKCIKTNSKFIHE...   \n",
       "4  MQCRGACSLREGTVFTVSAAVNNMNTASSKSEEEHREGQQQTEFVG...   \n",
       "\n",
       "                          Protein families  \\\n",
       "0                              IL-1 family   \n",
       "1                               MIF family   \n",
       "2             Tumor necrosis factor family   \n",
       "3  Intercrine alpha (chemokine CxC) family   \n",
       "4             Tumor necrosis factor family   \n",
       "\n",
       "                               Sequence similarities  \n",
       "0  SIMILARITY: Belongs to the IL-1 family. {ECO:0...  \n",
       "1  SIMILARITY: Belongs to the MIF family. {ECO:00...  \n",
       "2  SIMILARITY: Belongs to the tumor necrosis fact...  \n",
       "3  SIMILARITY: Belongs to the intercrine alpha (c...  \n",
       "4  SIMILARITY: Belongs to the tumor necrosis fact...  "
      ]
     },
     "execution_count": 22,
     "metadata": {},
     "output_type": "execute_result"
    }
   ],
   "source": [
    "df.head()"
   ]
  },
  {
   "cell_type": "code",
   "execution_count": 23,
   "metadata": {
    "colab": {
     "base_uri": "https://localhost:8080/"
    },
    "id": "WClbxbfyBpxK",
    "outputId": "65b4d93b-d424-4e6d-fb8d-474ca872fb3b"
   },
   "outputs": [
    {
     "data": {
      "text/plain": [
       "59385"
      ]
     },
     "execution_count": 23,
     "metadata": {},
     "output_type": "execute_result"
    }
   ],
   "source": [
    "#count unique sequences\n",
    "df['Sequence'].nunique()"
   ]
  },
  {
   "cell_type": "code",
   "execution_count": 24,
   "metadata": {
    "colab": {
     "base_uri": "https://localhost:8080/"
    },
    "id": "JL5jBgJpBsZJ",
    "outputId": "f8d5f838-dbcc-438f-f9c9-7c9802776b3e"
   },
   "outputs": [
    {
     "data": {
      "text/plain": [
       "(61612, 6)"
      ]
     },
     "execution_count": 24,
     "metadata": {},
     "output_type": "execute_result"
    }
   ],
   "source": [
    "df.shape"
   ]
  }
 ],
 "metadata": {
  "colab": {
   "provenance": []
  },
  "kernelspec": {
   "display_name": "base",
   "language": "python",
   "name": "python3"
  },
  "language_info": {
   "codemirror_mode": {
    "name": "ipython",
    "version": 3
   },
   "file_extension": ".py",
   "mimetype": "text/x-python",
   "name": "python",
   "nbconvert_exporter": "python",
   "pygments_lexer": "ipython3",
   "version": "3.12.7"
  }
 },
 "nbformat": 4,
 "nbformat_minor": 0
}
